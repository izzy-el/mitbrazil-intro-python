{
 "cells": [
  {
   "cell_type": "markdown",
   "metadata": {},
   "source": [
    "Strings\n",
    "- It represents a sequence of characters\n",
    "- Sequence -> composite data type\n",
    "- It can be either (\") or (')"
   ]
  },
  {
   "cell_type": "code",
   "execution_count": 1,
   "metadata": {},
   "outputs": [
    {
     "name": "stdout",
     "output_type": "stream",
     "text": [
      "This is a string\n",
      "string_one\n",
      "This is a string!!!\n",
      "SyrupSyrupSyrup\n",
      "i\n"
     ]
    }
   ],
   "source": [
    "string_one = 'This is a string'\n",
    "string_two = 'This is ALSO a string'\n",
    "\n",
    "print(string_one)\n",
    "print('string_one')\n",
    "print(string_one + '!!!')\n",
    "print('Syrup' * 3)\n",
    "print(string_one[2])"
   ]
  },
  {
   "cell_type": "markdown",
   "metadata": {},
   "source": [
    "Operations with String\n",
    "- + = join strings\n",
    "- * = join copies of the string\n",
    "- [] = extracting elements (indexing); Return the character at the given index"
   ]
  },
  {
   "cell_type": "code",
   "execution_count": 2,
   "metadata": {},
   "outputs": [
    {
     "name": "stdout",
     "output_type": "stream",
     "text": [
      "a\n",
      "e\n",
      "i\n",
      "o\n",
      "u\n",
      "u\n"
     ]
    }
   ],
   "source": [
    "#For Loops\n",
    "vowels = 'aeiou'\n",
    "\n",
    "for letter in vowels:\n",
    "    print(letter)\n",
    "\n",
    "print(letter)"
   ]
  },
  {
   "cell_type": "code",
   "execution_count": 3,
   "metadata": {},
   "outputs": [
    {
     "name": "stdout",
     "output_type": "stream",
     "text": [
      "0\n",
      "1\n",
      "2\n",
      "3\n",
      "4\n",
      "5\n",
      "5\n"
     ]
    }
   ],
   "source": [
    "for num in range(6):\n",
    "    print(num)\n",
    "    \n",
    "print(num)"
   ]
  },
  {
   "cell_type": "markdown",
   "metadata": {},
   "source": [
    "range(n) - starts at 0 and it stops before the number 'n'\n",
    "range(s, n) - starts at n and it stops before the number 'n'\n",
    "range(s, n, i) - starts at s, it stops before the number 'n', skipping 'i' numbers between each one"
   ]
  },
  {
   "cell_type": "markdown",
   "metadata": {},
   "source": [
    "Tuples\n",
    "- It is also a sequence, but it can contain any type of object (even another tuple)\n",
    "- syntax: () and ,\n",
    "\n",
    "Operations with Tuples\n",
    "- + = joins tuples, making only one tuple\n",
    "- * = join copies of the tuple\n",
    "- == = it compares tuples: equal if they have the same size and corresponding elements\n",
    "- [] = it returns an element at the given index"
   ]
  },
  {
   "cell_type": "code",
   "execution_count": 7,
   "metadata": {},
   "outputs": [
    {
     "name": "stdout",
     "output_type": "stream",
     "text": [
      "True\n",
      "(7, -7.8, 'Blue', 1, 2, 3)\n",
      "7\n",
      "-7.8\n",
      "Blue\n",
      "Blue\n"
     ]
    }
   ],
   "source": [
    "x = (7, -7.8, 'Blue')\n",
    "y = 7, -7.8, 'Blue' #parenthesis and implicit\n",
    "\n",
    "print(x == y)\n",
    "\n",
    "print(x + (1, 2, 3))\n",
    "\n",
    "for e in y:\n",
    "    print(e)\n",
    "    \n",
    "print(e)"
   ]
  },
  {
   "cell_type": "markdown",
   "metadata": {},
   "source": [
    "Lists\n",
    "- Almost identical to Tuples:\n",
    "    - Sequences that contains objects of any type\n",
    "- Difference: lists are mutable (they can be altered after being created)\n",
    "- Syntax: [] and ,"
   ]
  },
  {
   "cell_type": "code",
   "execution_count": 12,
   "metadata": {},
   "outputs": [
    {
     "name": "stdout",
     "output_type": "stream",
     "text": [
      "True\n",
      "[7, -7.8, 'Blue', 1, 2, 3]\n",
      "7\n",
      "-7.8\n",
      "Blue\n",
      "Blue\n",
      "False\n"
     ]
    }
   ],
   "source": [
    "x = [7, -7.8, 'Blue']\n",
    "y = [7, -7.8, 'Blue']\n",
    "\n",
    "print(x == y)\n",
    "\n",
    "print(y + [1, 2, 3])\n",
    "\n",
    "for e in y:\n",
    "    print(e)\n",
    "    \n",
    "print(e)\n",
    "\n",
    "z = tuple(y)\n",
    "print(z == x)"
   ]
  },
  {
   "cell_type": "code",
   "execution_count": 16,
   "metadata": {},
   "outputs": [
    {
     "name": "stdout",
     "output_type": "stream",
     "text": [
      "[1, 2, 100]\n",
      "None\n",
      "[1, 2, 100]\n",
      "[12, 5, 6, [1, 2, 100]]\n",
      "[12, 5, 6, [1, 2, 100]]\n"
     ]
    }
   ],
   "source": [
    "x = [1, 2, 3]\n",
    "x[2] = 100\n",
    "print(x)\n",
    "\n",
    "y = [4, 5, 6]\n",
    "z = y\n",
    "a = z.append(x)\n",
    "print(a)\n",
    "\n",
    "y[0] = 12\n",
    "print(x)\n",
    "print(y)\n",
    "print(z)\n",
    "\n",
    "#common problem above - aliasing: the names y and z points to\n",
    "#the same list so changing y also changes z and vice-versa,\n",
    "#even though the variable looks different"
   ]
  },
  {
   "cell_type": "code",
   "execution_count": 19,
   "metadata": {},
   "outputs": [
    {
     "name": "stdout",
     "output_type": "stream",
     "text": [
      "[2, 3, 4]\n",
      "[0, 1, 2, 3]\n",
      "[3, 4, 5, 6]\n",
      "[1, 3, 5]\n",
      "[0, 1, 2, 3, 4, 5, 6]\n",
      "[6, 5, 4, 3, 2, 1, 0]\n"
     ]
    }
   ],
   "source": [
    "#Sequences: slicing\n",
    "a = [0, 1, 2, 3, 4, 5, 6]\n",
    "print(a[2:5])\n",
    "print(a[:4])\n",
    "print(a[3:])\n",
    "print(a[1::2])\n",
    "print(a[:])\n",
    "print(a[::-1])"
   ]
  }
 ],
 "metadata": {
  "kernelspec": {
   "display_name": "Python 3",
   "language": "python",
   "name": "python3"
  },
  "language_info": {
   "codemirror_mode": {
    "name": "ipython",
    "version": 3
   },
   "file_extension": ".py",
   "mimetype": "text/x-python",
   "name": "python",
   "nbconvert_exporter": "python",
   "pygments_lexer": "ipython3",
   "version": "3.7.3"
  }
 },
 "nbformat": 4,
 "nbformat_minor": 2
}
