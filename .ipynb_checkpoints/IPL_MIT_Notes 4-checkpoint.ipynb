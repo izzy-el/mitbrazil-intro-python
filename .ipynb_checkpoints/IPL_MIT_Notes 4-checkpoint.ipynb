{
 "cells": [
  {
   "cell_type": "code",
   "execution_count": 2,
   "metadata": {},
   "outputs": [],
   "source": [
    "# Personalized Functions\n",
    "def fahr_to_celsius(temp):\n",
    "    '''\n",
    "    Converts temp from Fahrenheit para Celsius\n",
    "    '''\n",
    "    out = round((temp - 32) * 5 / 9)\n",
    "    return out"
   ]
  },
  {
   "cell_type": "markdown",
   "metadata": {},
   "source": [
    "Calling a Personalized Function\n",
    "- When we call a personalized function, Python follow these steps:\n",
    "    - 1: avalia todos os argumentos da função no ambiente atual (em que a função é chamada)\n",
    "    - 2: cria um novo ambiente cujo pai é o ambiente em que a função foi definida (chamado de F1)\n",
    "        - O quadro é semelhante ao quadro global, mas as variáveis são locais (acessíveis apenas dentro da função sendo chamada)\n",
    "    - 3: no novo ambiente, associa os parâmetros da função aos argumentos passados\n",
    "    - 4: avalia o corpo da função dentro desse novo ambiente criado para a execução\n",
    "        - Python primeiro pesquisa uma variável no ambiente atual (F1). Se não encontrá-la, continuará procurando no quadro pai (quadro em que foi definida). Python continua procurando até atingir um quadro que não tem pai (geralmente quadro global) e desiste.\n",
    "        - Variáveis dentro da função não afetam as variáveis fora da função!\n",
    "    - 5: determina o valor de retorno e o novo quadro é removido ao da execução"
   ]
  },
  {
   "cell_type": "code",
   "execution_count": 3,
   "metadata": {},
   "outputs": [],
   "source": [
    "a = 7.0\n",
    "b = True\n",
    "c = 'Hello'\n",
    "\n",
    "def minimum(a, b):\n",
    "    if a > b:\n",
    "        c = b\n",
    "    else:\n",
    "        c = a\n",
    "    return c"
   ]
  },
  {
   "cell_type": "markdown",
   "metadata": {},
   "source": [
    "Poder de Abstração\n",
    "- A criação de um novo ambiente para a execução parece complicada, mas nos fornece um recurso incrível: as variáveis dentro do corpo da função não afetam as variáveisfora do corpo da função\n",
    "    - Podemos usar o mesmo nome de variável dentro e fora da função sem conflito (valor de fora não e alterado depois de chamar a função)\n",
    "- Funções são então o método perfeito de abstração\n",
    "    - Podemos usá-las como caixa pretas, conhecendo apenas seu comportamento end-to-end\n",
    "    - Não precisamos nos preocupar com como o comportamento foi implementado no corpo da função, nomes de variáveis usados, ..."
   ]
  },
  {
   "cell_type": "markdown",
   "metadata": {},
   "source": [
    "Funções são objetos\n",
    "- Em Python, funções são objetos como qualquer outro, o que significa que podemos:\n",
    "    - Atribuir funções a variáveis além do nome da definição\n",
    "    - Conter funções em sequências (e.g. listas, tuplas, sets)\n",
    "    - Funções podem ser definidas dentro de outras funções e podem ser retornadas por outras funções\n",
    "    - Podem ser passadas como argumentos para outras funções: permite passar comportamente no programa (função influenciando outra função)\n",
    "\n",
    "map(f, x): aplica a função f a cada elemento da sequência x, substituindo x para f(x) na nova sequência.\n",
    "filter(f,x): filtra a sequência x, mantendo apenas os elementos i que têm f(i) True na nova sequência.\n",
    "\n",
    "lambda = definição de função 'sem nome': lambda"
   ]
  },
  {
   "cell_type": "code",
   "execution_count": 10,
   "metadata": {},
   "outputs": [],
   "source": [
    "def add(x, y):\n",
    "    return x + y\n",
    "\n",
    "add = lambda x, y: x + y"
   ]
  }
 ],
 "metadata": {
  "kernelspec": {
   "display_name": "Python 3",
   "language": "python",
   "name": "python3"
  },
  "language_info": {
   "codemirror_mode": {
    "name": "ipython",
    "version": 3
   },
   "file_extension": ".py",
   "mimetype": "text/x-python",
   "name": "python",
   "nbconvert_exporter": "python",
   "pygments_lexer": "ipython3",
   "version": "3.9.1"
  }
 },
 "nbformat": 4,
 "nbformat_minor": 4
}
