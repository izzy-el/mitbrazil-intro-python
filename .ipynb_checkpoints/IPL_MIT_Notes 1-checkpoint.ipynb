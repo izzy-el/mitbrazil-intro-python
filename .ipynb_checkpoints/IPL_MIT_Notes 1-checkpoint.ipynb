{
 "cells": [
  {
   "cell_type": "markdown",
   "metadata": {},
   "source": [
    "A computer program is a set of instructions describing a computation, generally to solve a problem."
   ]
  },
  {
   "cell_type": "markdown",
   "metadata": {},
   "source": [
    "In Python everything is an object. An Object has both a value and a type.\n",
    "A type can be either primitive (int, float, bool, string) or composite (tuple, dictionary, set, list)"
   ]
  },
  {
   "cell_type": "markdown",
   "metadata": {},
   "source": [
    "#Variables\n",
    "A space in memory"
   ]
  },
  {
   "cell_type": "code",
   "execution_count": 2,
   "metadata": {},
   "outputs": [
    {
     "name": "stdout",
     "output_type": "stream",
     "text": [
      "Izael 19 Brazil\n"
     ]
    }
   ],
   "source": [
    "nome = 'Izael'\n",
    "age = 19\n",
    "nationality = 'Brazil'\n",
    "\n",
    "print(nome, age, nationality)"
   ]
  },
  {
   "cell_type": "code",
   "execution_count": 5,
   "metadata": {},
   "outputs": [
    {
     "name": "stdout",
     "output_type": "stream",
     "text": [
      "Hooooray!\n",
      "10\n"
     ]
    }
   ],
   "source": [
    "#If-Elses\n",
    "value = 10\n",
    "\n",
    "if value >= 10:\n",
    "    print('Hooooray!')\n",
    "    \n",
    "print(value)"
   ]
  },
  {
   "cell_type": "code",
   "execution_count": 8,
   "metadata": {},
   "outputs": [
    {
     "name": "stdout",
     "output_type": "stream",
     "text": [
      "Not greater or equal to 12\n",
      "10\n"
     ]
    }
   ],
   "source": [
    "if value >= 12:\n",
    "    print('Hooooray!')\n",
    "else:\n",
    "    print('Not greater or equal to 12')\n",
    "\n",
    "print(value)"
   ]
  },
  {
   "cell_type": "code",
   "execution_count": 9,
   "metadata": {},
   "outputs": [
    {
     "name": "stdout",
     "output_type": "stream",
     "text": [
      "Bingo!\n",
      "10\n"
     ]
    }
   ],
   "source": [
    "if value > 12:\n",
    "    print('Hooooray!')\n",
    "elif value == 10:\n",
    "    print('Bingo!')\n",
    "else:\n",
    "    print('Oof!')\n",
    "\n",
    "print(value)"
   ]
  }
 ],
 "metadata": {
  "kernelspec": {
   "display_name": "Python 3",
   "language": "python",
   "name": "python3"
  },
  "language_info": {
   "codemirror_mode": {
    "name": "ipython",
    "version": 3
   },
   "file_extension": ".py",
   "mimetype": "text/x-python",
   "name": "python",
   "nbconvert_exporter": "python",
   "pygments_lexer": "ipython3",
   "version": "3.7.3"
  }
 },
 "nbformat": 4,
 "nbformat_minor": 2
}
